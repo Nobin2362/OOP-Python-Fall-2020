{
  "nbformat": 4,
  "nbformat_minor": 0,
  "metadata": {
    "colab": {
      "name": "ai lb.ipynb",
      "provenance": [],
      "collapsed_sections": [],
      "authorship_tag": "ABX9TyNFx8uMod2AtDtV4NtVOSVr",
      "include_colab_link": true
    },
    "kernelspec": {
      "name": "python3",
      "display_name": "Python 3"
    },
    "language_info": {
      "name": "python"
    }
  },
  "cells": [
    {
      "cell_type": "markdown",
      "metadata": {
        "id": "view-in-github",
        "colab_type": "text"
      },
      "source": [
        "<a href=\"https://colab.research.google.com/github/Nobin2362/OOP-Python-Fall-2020/blob/master/ai_lb.ipynb\" target=\"_parent\"><img src=\"https://colab.research.google.com/assets/colab-badge.svg\" alt=\"Open In Colab\"/></a>"
      ]
    },
    {
      "cell_type": "code",
      "metadata": {
        "colab": {
          "base_uri": "https://localhost:8080/"
        },
        "id": "4hLeSryiBxYj",
        "outputId": "006fddae-0f55-457a-beca-a38b9e9c4c7c"
      },
      "source": [
        "print(\"Hello World\")"
      ],
      "execution_count": 5,
      "outputs": [
        {
          "output_type": "stream",
          "text": [
            "Hello World\n"
          ],
          "name": "stdout"
        }
      ]
    },
    {
      "cell_type": "code",
      "metadata": {
        "colab": {
          "base_uri": "https://localhost:8080/"
        },
        "id": "Ri4PBF_mCaeP",
        "outputId": "1d02f3bd-bcaf-493a-d552-3cb1cb30bf0d"
      },
      "source": [
        "age = 20\n",
        "name = \"Nobin\"\n",
        "print(\"Welcome MD.\"+name)\n",
        "print(\"Your age: \",age)"
      ],
      "execution_count": 6,
      "outputs": [
        {
          "output_type": "stream",
          "text": [
            "Welcome MD.Nobin\n",
            "Your age:  20\n"
          ],
          "name": "stdout"
        }
      ]
    },
    {
      "cell_type": "code",
      "metadata": {
        "colab": {
          "base_uri": "https://localhost:8080/"
        },
        "id": "330AVo8LEPHQ",
        "outputId": "37bf7c62-65db-46b3-f6bd-4ef46ae5d81f"
      },
      "source": [
        "name = input(\"Enter your name\")\n",
        "print(\"Welcome to the club, MD. \"+name)"
      ],
      "execution_count": 7,
      "outputs": [
        {
          "output_type": "stream",
          "text": [
            "Enter your nameNobin\n",
            "Welcome to the club, MD. Nobin\n"
          ],
          "name": "stdout"
        }
      ]
    },
    {
      "cell_type": "code",
      "metadata": {
        "colab": {
          "base_uri": "https://localhost:8080/",
          "height": 195
        },
        "id": "iUzlTjNmEuVX",
        "outputId": "64916fc9-1a88-40f0-bedd-852164c27adc"
      },
      "source": [
        "age = int(input(\"Enter your age \"))\n",
        "print(\"Your age \"+age)"
      ],
      "execution_count": 11,
      "outputs": [
        {
          "output_type": "stream",
          "text": [
            "Enter your age23\n"
          ],
          "name": "stdout"
        },
        {
          "output_type": "error",
          "ename": "TypeError",
          "evalue": "ignored",
          "traceback": [
            "\u001b[0;31m---------------------------------------------------------------------------\u001b[0m",
            "\u001b[0;31mTypeError\u001b[0m                                 Traceback (most recent call last)",
            "\u001b[0;32m<ipython-input-11-3fe201aa822b>\u001b[0m in \u001b[0;36m<module>\u001b[0;34m()\u001b[0m\n\u001b[1;32m      1\u001b[0m \u001b[0mage\u001b[0m \u001b[0;34m=\u001b[0m \u001b[0mint\u001b[0m\u001b[0;34m(\u001b[0m\u001b[0minput\u001b[0m\u001b[0;34m(\u001b[0m\u001b[0;34m\"Enter your age\"\u001b[0m\u001b[0;34m)\u001b[0m\u001b[0;34m)\u001b[0m\u001b[0;34m\u001b[0m\u001b[0;34m\u001b[0m\u001b[0m\n\u001b[0;32m----> 2\u001b[0;31m \u001b[0mprint\u001b[0m\u001b[0;34m(\u001b[0m\u001b[0;34m\"Your age \"\u001b[0m\u001b[0;34m+\u001b[0m\u001b[0mage\u001b[0m\u001b[0;34m)\u001b[0m\u001b[0;34m\u001b[0m\u001b[0;34m\u001b[0m\u001b[0m\n\u001b[0m",
            "\u001b[0;31mTypeError\u001b[0m: can only concatenate str (not \"int\") to str"
          ]
        }
      ]
    },
    {
      "cell_type": "code",
      "metadata": {
        "colab": {
          "base_uri": "https://localhost:8080/"
        },
        "id": "6JbH3dm4FTAW",
        "outputId": "68d256a6-78d1-419c-84b1-204467008165"
      },
      "source": [
        "age = int(age)+10\n",
        "print(age)"
      ],
      "execution_count": 13,
      "outputs": [
        {
          "output_type": "stream",
          "text": [
            "33\n"
          ],
          "name": "stdout"
        }
      ]
    },
    {
      "cell_type": "markdown",
      "metadata": {
        "id": "XtmOwfS7JONG"
      },
      "source": [
        "**Arithmetic operators**"
      ]
    },
    {
      "cell_type": "code",
      "metadata": {
        "colab": {
          "base_uri": "https://localhost:8080/"
        },
        "id": "fFhJOtUeGQSZ",
        "outputId": "107a16ad-2f98-43bc-c5ca-b9960cb5de03"
      },
      "source": [
        " multiplication = 7*4\n",
        " print(multiplication)"
      ],
      "execution_count": 14,
      "outputs": [
        {
          "output_type": "stream",
          "text": [
            "28\n"
          ],
          "name": "stdout"
        }
      ]
    },
    {
      "cell_type": "code",
      "metadata": {
        "colab": {
          "base_uri": "https://localhost:8080/"
        },
        "id": "GE1qbGSAGpWO",
        "outputId": "f34496e2-fe86-4b4c-8b99-ae0dfa2fd78a"
      },
      "source": [
        "add = 10+15\n",
        "print(add)"
      ],
      "execution_count": 15,
      "outputs": [
        {
          "output_type": "stream",
          "text": [
            "25\n"
          ],
          "name": "stdout"
        }
      ]
    },
    {
      "cell_type": "code",
      "metadata": {
        "colab": {
          "base_uri": "https://localhost:8080/"
        },
        "id": "BuoQGAT4Gwt-",
        "outputId": "f7f66685-3590-4fee-a9fb-305896099b23"
      },
      "source": [
        "sub = 40-8\n",
        "print(sub)"
      ],
      "execution_count": 12,
      "outputs": [
        {
          "output_type": "stream",
          "text": [
            "32\n"
          ],
          "name": "stdout"
        }
      ]
    },
    {
      "cell_type": "code",
      "metadata": {
        "colab": {
          "base_uri": "https://localhost:8080/"
        },
        "id": "D-v1_FUmGz8f",
        "outputId": "213b28db-351e-4773-d160-d9837cffc9b2"
      },
      "source": [
        "Exponentiation = 2**10\n",
        "print(Exponentiation)"
      ],
      "execution_count": 16,
      "outputs": [
        {
          "output_type": "stream",
          "text": [
            "1024\n"
          ],
          "name": "stdout"
        }
      ]
    },
    {
      "cell_type": "code",
      "metadata": {
        "colab": {
          "base_uri": "https://localhost:8080/"
        },
        "id": "kr3H6z_IG3gG",
        "outputId": "b4c037ac-e1b3-46a9-d8e1-ce09f3ce185a"
      },
      "source": [
        "remainder = 15%7\n",
        "print(remainder)"
      ],
      "execution_count": 17,
      "outputs": [
        {
          "output_type": "stream",
          "text": [
            "1\n"
          ],
          "name": "stdout"
        }
      ]
    },
    {
      "cell_type": "code",
      "metadata": {
        "colab": {
          "base_uri": "https://localhost:8080/"
        },
        "id": "5Jl72VnWG9TO",
        "outputId": "94eb1502-9d33-4509-a18e-cde99384b4a8"
      },
      "source": [
        "Floor_Division = 7//4\n",
        "print(Floor_Division)"
      ],
      "execution_count": 18,
      "outputs": [
        {
          "output_type": "stream",
          "text": [
            "1\n"
          ],
          "name": "stdout"
        }
      ]
    },
    {
      "cell_type": "markdown",
      "metadata": {
        "id": "9ka82NIGJHnX"
      },
      "source": [
        "**Logical Operator**"
      ]
    },
    {
      "cell_type": "code",
      "metadata": {
        "colab": {
          "base_uri": "https://localhost:8080/"
        },
        "id": "GVH22KPIHAHX",
        "outputId": "b4a7a9f3-acd6-49eb-e87b-743ed3bd6a99"
      },
      "source": [
        "salary = 60000\n",
        "print(salary>50000 or salary<100000)\n",
        "print(not(salary>50000 and salary<100000))"
      ],
      "execution_count": 20,
      "outputs": [
        {
          "output_type": "stream",
          "text": [
            "True\n",
            "False\n"
          ],
          "name": "stdout"
        }
      ]
    },
    {
      "cell_type": "code",
      "metadata": {
        "colab": {
          "base_uri": "https://localhost:8080/"
        },
        "id": "2vRLw3ARJ31-",
        "outputId": "69a294c0-5562-4e13-a0cf-aaa525c2ed17"
      },
      "source": [
        "if age>=18:\n",
        "  print(\"You are eligible to vote! \")\n",
        "elif age<18:\n",
        "  print(\"You are not eligible to vote \")\n"
      ],
      "execution_count": 23,
      "outputs": [
        {
          "output_type": "stream",
          "text": [
            "You are eligible to vote! \n"
          ],
          "name": "stdout"
        }
      ]
    },
    {
      "cell_type": "code",
      "metadata": {
        "colab": {
          "base_uri": "https://localhost:8080/"
        },
        "id": "S2EStLMOL4lH",
        "outputId": "3e2acb43-b292-4b12-893b-ab59788cced6"
      },
      "source": [
        "name = input( \" Enter your name :\")\n",
        "grade = int(input (\"Enter your marks : \"))\n",
        "\n",
        "if grade >= 101:\n",
        "  print('Not Found')\n",
        "elif grade >= 80:\n",
        "    print('A+')\n",
        "elif grade >= 75:\n",
        "    print('A')\n",
        "elif grade >= 70:\n",
        "    print('A-')\n",
        "elif grade >= 65:\n",
        "    print('B+')\n",
        "elif grade >=60:\n",
        "      print('B')\n",
        "elif grade >=55:\n",
        "  print('B-')\n",
        "elif grade >=50:\n",
        "  print('C')\n",
        "else:\n",
        "    print('F')"
      ],
      "execution_count": 48,
      "outputs": [
        {
          "output_type": "stream",
          "text": [
            " Enter your name :gh\n",
            "Enter your marks : 76\n",
            "A\n"
          ],
          "name": "stdout"
        }
      ]
    }
  ]
}